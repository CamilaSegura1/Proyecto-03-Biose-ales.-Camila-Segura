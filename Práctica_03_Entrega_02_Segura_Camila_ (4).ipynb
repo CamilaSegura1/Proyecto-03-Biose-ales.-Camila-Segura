{
  "nbformat": 4,
  "nbformat_minor": 0,
  "metadata": {
    "colab": {
      "provenance": []
    },
    "kernelspec": {
      "name": "python3",
      "display_name": "Python 3"
    },
    "language_info": {
      "name": "python"
    }
  },
  "cells": [
    {
      "cell_type": "markdown",
      "source": [
        "# Práctica 03.  Entrega 02. Análisis estadístico de señales - Comparación estadística de Energía de señales EEG.\n",
        "\n",
        "Estudiante: Camila Segura\n",
        "\n",
        "Identificación: 1000795135"
      ],
      "metadata": {
        "id": "QSiNC-He2gSv"
      }
    },
    {
      "cell_type": "code",
      "execution_count": 1,
      "metadata": {
        "colab": {
          "base_uri": "https://localhost:8080/"
        },
        "id": "MTL2tiyH2e08",
        "outputId": "6cae02c7-5c3c-4ee4-f900-2dfc7b25f2e0"
      },
      "outputs": [
        {
          "output_type": "stream",
          "name": "stdout",
          "text": [
            "Mounted at /content/drive\n"
          ]
        }
      ],
      "source": [
        "#Conectar colab con el drive de la universidad\n",
        "from google.colab import drive\n",
        "drive.mount('/content/drive')"
      ]
    },
    {
      "cell_type": "code",
      "source": [
        "#librerias convencionales\n",
        "from scipy.fftpack import fft;\n",
        "import matplotlib.pyplot as plt;\n",
        "import numpy as np;\n",
        "import scipy.io as sio;\n",
        "import numpy as np;\n",
        "import matplotlib.pyplot as plt"
      ],
      "metadata": {
        "id": "1ux4FeOc5h0X"
      },
      "execution_count": 2,
      "outputs": []
    },
    {
      "cell_type": "markdown",
      "source": [
        "## Importar datos de la carpeta .zip tanto para control como para Parkinson"
      ],
      "metadata": {
        "id": "9-wksMebL9qE"
      }
    },
    {
      "cell_type": "code",
      "source": [
        "!cp /content/drive/MyDrive/UdeA_BIOINGENIERIA/Bioseñales/Laboratorio/02/datos_senales_datos_parkinson_cursos.zip . #importante punto final\n",
        "!unzip datos_senales_datos_parkinson_cursos.zip"
      ],
      "metadata": {
        "colab": {
          "base_uri": "https://localhost:8080/"
        },
        "id": "S8n_q6KU5pxE",
        "outputId": "28c9f83a-75ff-425c-849a-e21ae0e29d97"
      },
      "execution_count": 3,
      "outputs": [
        {
          "output_type": "stream",
          "name": "stdout",
          "text": [
            "Archive:  datos_senales_datos_parkinson_cursos.zip\n",
            "   creating: control/\n",
            "  inflating: control/C001R_EP_reposo.mat  \n",
            "  inflating: control/C002_EP_reposo.mat  \n",
            "  inflating: control/C004_EP_reposo.mat  \n",
            "  inflating: control/C005_EP_reposo_Repetido.mat  \n",
            "  inflating: control/C006_EP_reposo.mat  \n",
            "  inflating: control/C007_EP_reposo.mat  \n",
            "  inflating: control/C010_EP_reposo.mat  \n",
            "  inflating: control/C011_EP_reposo.mat  \n",
            "  inflating: control/C012_EP_reposo.mat  \n",
            "  inflating: control/C013_EP_reposo.mat  \n",
            "  inflating: control/C015_EP_reposo.mat  \n",
            "  inflating: control/C018_EP_reposo.mat  \n",
            "  inflating: control/C019_EP_reposo.mat  \n",
            "  inflating: control/C020_EP_reposo.mat  \n",
            "  inflating: control/C021_EP_reposo.mat  \n",
            "  inflating: control/C023_EP_reposo.mat  \n",
            "  inflating: control/C024_EP_reposo.mat  \n",
            "  inflating: control/C025_EP_reposo.mat  \n",
            "  inflating: control/C026_EP_reposo.mat  \n",
            "  inflating: control/C027_EP_reposo.mat  \n",
            "  inflating: control/C028_EP_reposo.mat  \n",
            "  inflating: control/C029_EP_reposo.mat  \n",
            "  inflating: control/C030_EP_reposo.mat  \n",
            "  inflating: control/C031_EP_reposo.mat  \n",
            "  inflating: control/C032_EP_reposo.mat  \n",
            "  inflating: control/C033R_EP_reposo.mat  \n",
            "  inflating: control/C034_EP_reposo.mat  \n",
            "  inflating: control/C036_EP_reposo.mat  \n",
            "  inflating: control/C037_EP_reposo.mat  \n",
            "  inflating: control/C040_EP_reposo.mat  \n",
            "  inflating: control/C041_EP_reposo.mat  \n",
            "  inflating: control/C042_EP_reposo.mat  \n",
            "  inflating: control/C044_EP_reposo.mat  \n",
            "  inflating: control/C045_EP_reposo.mat  \n",
            "  inflating: control/C046_EP_reposo.mat  \n",
            "  inflating: control/C049_EP_reposo.mat  \n",
            "   creating: parkinson/\n",
            "  inflating: parkinson/P001_EP_reposo.mat  \n",
            "  inflating: parkinson/P004_EP_reposo.mat  \n",
            "  inflating: parkinson/P005_EP_reposo.mat  \n",
            "  inflating: parkinson/P007_EP_reposo.mat  \n",
            "  inflating: parkinson/P012_EP_reposo.mat  \n",
            "  inflating: parkinson/P013_EP_reposo.mat  \n",
            "  inflating: parkinson/P015_EP_reposo.mat  \n",
            "  inflating: parkinson/P016_EP_reposo.mat  \n",
            "  inflating: parkinson/P017_EP_reposo.mat  \n",
            "  inflating: parkinson/P018_EP_reposo.mat  \n",
            "  inflating: parkinson/P020_EP_reposo.mat  \n",
            "  inflating: parkinson/P025_EP_reposo.mat  \n",
            "  inflating: parkinson/P026_EP_reposo.mat  \n",
            "  inflating: parkinson/P028_EP_reposo.mat  \n",
            "  inflating: parkinson/P030_EP_reposo.mat  \n",
            "  inflating: parkinson/P032_EP_reposo.mat  \n",
            "  inflating: parkinson/P033_EP_reposo.mat  \n",
            "  inflating: parkinson/P034_EP_reposo.mat  \n",
            "  inflating: parkinson/P040_EP_reposo.mat  \n",
            "  inflating: parkinson/P041_EP_reposo.mat  \n",
            "  inflating: parkinson/P046_EP_reposo.mat  \n",
            "  inflating: parkinson/P048_EP_reposo.mat  \n",
            "  inflating: parkinson/P049_EP_reposo.mat  \n"
          ]
        }
      ]
    },
    {
      "cell_type": "code",
      "source": [
        "import os\n",
        "directorio_actual=os.getcwd()\n",
        "print(directorio_actual)"
      ],
      "metadata": {
        "id": "VMOj6OvhCws9",
        "colab": {
          "base_uri": "https://localhost:8080/"
        },
        "outputId": "869a3a2c-00ea-4fd4-cf15-250c1d1a930a"
      },
      "execution_count": 4,
      "outputs": [
        {
          "output_type": "stream",
          "name": "stdout",
          "text": [
            "/content\n"
          ]
        }
      ]
    },
    {
      "cell_type": "markdown",
      "source": [
        "1. Leer todos los archivos de la crapeta \"control\" y organizarlos para el desarrollo de la práctica. Esta sección del código es completamente aparte de los puntos solicitados, es para ampliar el entendimiento de los datos."
      ],
      "metadata": {
        "id": "1TubHH_CEp81"
      }
    },
    {
      "cell_type": "code",
      "source": [
        "archivos=os.listdir(directorio_actual + \"/control\") #devuelve lo que tiene la carpeta\n",
        "print(len(archivos))\n",
        "archivos[0] #archivos .mat"
      ],
      "metadata": {
        "id": "3jD7iLYQCz2t",
        "colab": {
          "base_uri": "https://localhost:8080/",
          "height": 52
        },
        "outputId": "f3b375ce-8ed8-4ce3-f8a0-0282b1418b9e"
      },
      "execution_count": 5,
      "outputs": [
        {
          "output_type": "stream",
          "name": "stdout",
          "text": [
            "36\n"
          ]
        },
        {
          "output_type": "execute_result",
          "data": {
            "text/plain": [
              "'C015_EP_reposo.mat'"
            ],
            "application/vnd.google.colaboratory.intrinsic+json": {
              "type": "string"
            }
          },
          "metadata": {},
          "execution_count": 5
        }
      ]
    },
    {
      "cell_type": "code",
      "source": [
        "#ruta de un archivo\n",
        "path_subjecti=(directorio_actual + \"/control\" + \"/\" + archivos[0])\n",
        "#1 CARGAR EL ARCHIVO\n",
        "data_control = sio.loadmat(path_subjecti)\n",
        "data_c=data_control['data']"
      ],
      "metadata": {
        "id": "Fmo7a-_5C9l7"
      },
      "execution_count": 6,
      "outputs": []
    },
    {
      "cell_type": "code",
      "source": [
        "print(\"Variable python: \" + str(type(data_c)));\n",
        "#características básicas de ndarray\n",
        "print(\"Tipo de variable cargada: \" + str(data_c.dtype));\n",
        "print(\"Dimensiones de los datos cargados: \" + str(data_c.shape));\n",
        "print(\"Numero de dimensiones: \" + str(data_c.ndim));\n",
        "print(\"Tamaño: \" + str(data_c.size));\n",
        "print(\"Tamaño en memoria (bytes): \" + str(data_c.nbytes));"
      ],
      "metadata": {
        "id": "nwHTmW-jEAxZ",
        "colab": {
          "base_uri": "https://localhost:8080/"
        },
        "outputId": "3345a137-0cd6-4475-9f82-9786fff1decf"
      },
      "execution_count": 7,
      "outputs": [
        {
          "output_type": "stream",
          "name": "stdout",
          "text": [
            "Variable python: <class 'numpy.ndarray'>\n",
            "Tipo de variable cargada: float64\n",
            "Dimensiones de los datos cargados: (8, 2000, 140)\n",
            "Numero de dimensiones: 3\n",
            "Tamaño: 2240000\n",
            "Tamaño en memoria (bytes): 17920000\n"
          ]
        }
      ]
    },
    {
      "cell_type": "markdown",
      "source": [
        "Los datos se estan mostrando de la forma: (canales, muestras_por_epoca, n_epocas)\n",
        "\n",
        "Es necesario reorganizar la matriz de cada uno de los vectores para asi poder realizar operaciones matemáticas importantes a futuro.\n",
        "\n",
        "La idea es unir todas las épocas (muestras_por_epoca y n_epocas) en una sola señal por canal, de modo que se pueda analizar la señal EEG como si fuera continua."
      ],
      "metadata": {
        "id": "9_f7O-RfKROC"
      }
    },
    {
      "cell_type": "code",
      "source": [
        "# Se va a reducir la dimension de los datos cargados\n",
        "senal_continua_control = np.reshape(data_c,(data_c.shape[0],data_c.shape[1]*data_c.shape[2]),order='F') #F --> asegurar MATLAB"
      ],
      "metadata": {
        "id": "Yb8KGcuoKL3s"
      },
      "execution_count": 8,
      "outputs": []
    },
    {
      "cell_type": "code",
      "source": [
        "print(\"Dimensiones de los datos cargados: \" + str(senal_continua_control.shape));\n",
        "fig = plt.figure(figsize=(10,3))\n",
        "#Se quiere observar el comportamiento de la señal del canal 1 y sus primeras 2000 muestras ( 0 - 2000)\n",
        "plt.plot(senal_continua_control[0,0:2000])\n",
        "plt.show()"
      ],
      "metadata": {
        "colab": {
          "base_uri": "https://localhost:8080/",
          "height": 308
        },
        "id": "QpruaZkhLV14",
        "outputId": "a3675ad6-bd1a-4ae5-cf30-ba7d196f6e05"
      },
      "execution_count": 9,
      "outputs": [
        {
          "output_type": "stream",
          "name": "stdout",
          "text": [
            "Dimensiones de los datos cargados: (8, 280000)\n"
          ]
        },
        {
          "output_type": "display_data",
          "data": {
            "text/plain": [
              "<Figure size 1000x300 with 1 Axes>"
            ],
            "image/png": "[encoded data removed]"
          },
          "metadata": {}
        }
      ]
    },
    {
      "cell_type": "markdown",
      "source": [
        "2. Realizar el mismo proceso pero para las señales de sujetos que padecen la enfermedad de Parkinson"
      ],
      "metadata": {
        "id": "wVxCnFB3L1_k"
      }
    },
    {
      "cell_type": "code",
      "source": [
        "archivos=os.listdir(directorio_actual + \"/parkinson\") #devuelve lo que tiene la carpeta\n",
        "print(len(archivos))\n",
        "archivos[0] #archivos .mat"
      ],
      "metadata": {
        "colab": {
          "base_uri": "https://localhost:8080/",
          "height": 52
        },
        "id": "cZyrT2-PMJtF",
        "outputId": "e990a873-832f-4533-eacf-07cfdf84da35"
      },
      "execution_count": 10,
      "outputs": [
        {
          "output_type": "stream",
          "name": "stdout",
          "text": [
            "23\n"
          ]
        },
        {
          "output_type": "execute_result",
          "data": {
            "text/plain": [
              "'P026_EP_reposo.mat'"
            ],
            "application/vnd.google.colaboratory.intrinsic+json": {
              "type": "string"
            }
          },
          "metadata": {},
          "execution_count": 10
        }
      ]
    },
    {
      "cell_type": "code",
      "source": [
        "#ruta de un archivo\n",
        "path_subjecti_p=(directorio_actual + \"/parkinson\" + \"/\" + archivos[0])\n",
        "#1 CARGAR EL ARCHIVO\n",
        "data_parkinson = sio.loadmat(path_subjecti_p)\n",
        "data_p=data_parkinson['data']"
      ],
      "metadata": {
        "id": "IIDuJAUAMOXM"
      },
      "execution_count": 11,
      "outputs": []
    },
    {
      "cell_type": "code",
      "source": [
        "print(\"Variable python: \" + str(type(data_p)));\n",
        "#características básicas de ndarray\n",
        "print(\"Tipo de variable cargada: \" + str(data_p.dtype));\n",
        "print(\"Dimensiones de los datos cargados: \" + str(data_p.shape));\n",
        "print(\"Numero de dimensiones: \" + str(data_p.ndim));\n",
        "print(\"Tamaño: \" + str(data_p.size));\n",
        "print(\"Tamaño en memoria (bytes): \" + str(data_p.nbytes));"
      ],
      "metadata": {
        "colab": {
          "base_uri": "https://localhost:8080/"
        },
        "id": "9rRQfBEjMZ3Y",
        "outputId": "d0658310-7f35-456c-fa33-a732ba3d4b8e"
      },
      "execution_count": 12,
      "outputs": [
        {
          "output_type": "stream",
          "name": "stdout",
          "text": [
            "Variable python: <class 'numpy.ndarray'>\n",
            "Tipo de variable cargada: float64\n",
            "Dimensiones de los datos cargados: (8, 2000, 142)\n",
            "Numero de dimensiones: 3\n",
            "Tamaño: 2272000\n",
            "Tamaño en memoria (bytes): 18176000\n"
          ]
        }
      ]
    },
    {
      "cell_type": "code",
      "source": [
        "# Se va a reducir la dimension de los datos cargados\n",
        "senal_continua_parkinson = np.reshape(data_p,(data_p.shape[0],data_p.shape[1]*data_p.shape[2]),order='F') #F --> asegurar MATLAB"
      ],
      "metadata": {
        "id": "HLRd5hz2MpF1"
      },
      "execution_count": 13,
      "outputs": []
    },
    {
      "cell_type": "code",
      "source": [
        "print(\"Dimensiones de los datos cargados: \" + str(senal_continua_parkinson.shape));\n",
        "fig = plt.figure(figsize=(10,3))\n",
        "#Se quiere observar el comportamiento de la señal del canal 1 y sus primeras 2000 muestras ( 0 - 2000)\n",
        "plt.plot(senal_continua_parkinson[0,0:2000])\n",
        "plt.show()"
      ],
      "metadata": {
        "colab": {
          "base_uri": "https://localhost:8080/",
          "height": 308
        },
        "id": "WVgu-bxsMvWX",
        "outputId": "9b08b598-a225-4a5d-b0f2-df3e4e181204"
      },
      "execution_count": 14,
      "outputs": [
        {
          "output_type": "stream",
          "name": "stdout",
          "text": [
            "Dimensiones de los datos cargados: (8, 284000)\n"
          ]
        },
        {
          "output_type": "display_data",
          "data": {
            "text/plain": [
              "<Figure size 1000x300 with 1 Axes>"
            ],
            "image/png": "[encoded data removed]"
          },
          "metadata": {}
        }
      ]
    },
    {
      "cell_type": "markdown",
      "source": [
        "## Función que recibe la señal y calcula su energía promedio para cada canal"
      ],
      "metadata": {
        "id": "xK2tusxxN6G7"
      }
    },
    {
      "cell_type": "markdown",
      "source": [
        "Aunque se hizo de manera independiente la importación y organización de datos, estos solo se hicieron pero el canal 1. Es importante realizar una función que permita recibir una señal de múltiples canales y épocas y calcule la Energía promedio de cada canal."
      ],
      "metadata": {
        "id": "GkUecXbTNgAv"
      }
    },
    {
      "cell_type": "code",
      "source": [
        "#Funcion que pone promedios de muestras y promedios de épocas\n",
        "import numpy as np\n",
        "\n",
        "def energia_promedio(data):\n",
        "    canales, _, epocas = data.shape\n",
        "    energias = []\n",
        "\n",
        "    for c in range(canales):\n",
        "        promedios_epocas = [] #lista donde se incluyen los promedios de las épocas\n",
        "        for e in range(epocas): #se recorre cada época para promediar sus muestras\n",
        "            promedios_epocas.append(np.mean(data[c, :, e]**2))\n",
        "        energias.append(np.mean(promedios_epocas))\n",
        "\n",
        "    return np.array(energias)  # <-- así ya tiene .shape y es mas facil para más adelante\n",
        "\n"
      ],
      "metadata": {
        "id": "d8ADZ0DulRVj"
      },
      "execution_count": 15,
      "outputs": []
    },
    {
      "cell_type": "code",
      "source": [
        "import os;\n",
        "\n",
        "directorio_actual=os.getcwd();\n",
        "print(directorio_actual)\n",
        "\n",
        "fs = 250; #Frecuencia de muestreo\n",
        "num_canales = 8; #número de canales"
      ],
      "metadata": {
        "colab": {
          "base_uri": "https://localhost:8080/"
        },
        "id": "dgELed7FZWet",
        "outputId": "bf183b3a-4f1d-4b02-9872-03d48b09ff7b"
      },
      "execution_count": 16,
      "outputs": [
        {
          "output_type": "stream",
          "name": "stdout",
          "text": [
            "/content\n"
          ]
        }
      ]
    },
    {
      "cell_type": "markdown",
      "source": [
        "## Energia promediada por épocas de cada canal para cada grupo poblacional"
      ],
      "metadata": {
        "id": "ECFaG0v4cmba"
      }
    },
    {
      "cell_type": "markdown",
      "source": [
        "Este análisis se parte en dos:\n",
        "1. Promedio de todos los puntos de cada una de las épocas presentes en cada canal de cada sujeto\n",
        "$\n",
        "E_{c,e} = \\frac{1}{P} \\sum_{p=1}^{P} \\left( x_c^{(e)}[p] \\right)^2\n",
        "$\n",
        "\n",
        "2. Promedio de cada una de las épocas del primer item, para cada canal de cada sujeto\n",
        "$\n",
        "E_{c} = \\frac{1}{E} \\sum_{e=1}^{E} E_{c,e}\n",
        "$\n",
        "\n",
        "- c = canal\n",
        "- e = época\n",
        "- p = punto (muestra dentro de la época)\n",
        "- P = número de puntos por época\n",
        "- E = número de épocas"
      ],
      "metadata": {
        "id": "nCWt9VUdcsYF"
      }
    },
    {
      "cell_type": "code",
      "source": [
        "import pandas as pd\n",
        "#Para control\n",
        "archivos_control=os.listdir(directorio_actual + \"/control\")\n",
        "print(len(archivos_control))\n",
        "\n",
        "#Cargar los controles de la carpeta control\n",
        "for i in range(0,len(archivos_control)):\n",
        "    #ruta de un archivo\n",
        "    sujetoi=(directorio_actual + \"/control\" + \"/\" + archivos_control[i]);\n",
        "    #CARGAR EL ARCHIVO\n",
        "    data = sio.loadmat(sujetoi);\n",
        "    data_control = data[\"data\"];\n",
        "\n",
        "# Lista para guardar energías promedio de cada sujeto\n",
        "energias_control = []\n",
        "\n",
        "# Iteramos sobre los archivos de sujetos control\n",
        "for archivo in archivos_control:\n",
        "    ruta = directorio_actual + \"/control/\" + archivo\n",
        "    data = sio.loadmat(ruta)[\"data\"]   # data con forma (canales, muestras, epocas)\n",
        "\n",
        "    # Usamos la función definida previamente\n",
        "    energias_sujeto = energia_promedio(data)  # devuelve un array con la energía promedio por canal\n",
        "    energias_control.append(energias_sujeto)\n",
        "\n",
        "# Convertimos la lista a DataFrame\n",
        "canales = energias_control[0].shape[0]  # número de canales\n",
        "df_control = pd.DataFrame(energias_control, columns=[f\"Canal_{i+1}\" for i in range(canales)])\n",
        "\n",
        "# Ajustamos el índice para que sean los sujetos\n",
        "df_control.index = archivos_control\n",
        "df_control.index = df_control.index.str.extract(r'(\\d+)')[0].astype(int)  # extrae el número --> ej: 34\n",
        "df_control.index = \"Sujeto Control \" + df_control.index.astype(str) #le suma \"sujeto\" al número de arriba\n",
        "\n",
        "# Se muestran los primeros 5 registros\n",
        "df_control.head()"
      ],
      "metadata": {
        "colab": {
          "base_uri": "https://localhost:8080/",
          "height": 255
        },
        "id": "J8LfVLpSItre",
        "outputId": "9dcea909-b14a-4f11-b166-d4fc095bc513"
      },
      "execution_count": 18,
      "outputs": [
        {
          "output_type": "stream",
          "name": "stdout",
          "text": [
            "36\n"
          ]
        },
        {
          "output_type": "execute_result",
          "data": {
            "text/plain": [
              "                     Canal_1    Canal_2    Canal_3    Canal_4    Canal_5  \\\n",
              "0                                                                          \n",
              "Sujeto Control 15   8.783733  10.869256  14.714654  14.265100  12.293204   \n",
              "Sujeto Control 10   5.598777   5.474184   6.368502   5.372581   5.164821   \n",
              "Sujeto Control 31   7.399127  12.689970   7.178010   6.144328   5.847484   \n",
              "Sujeto Control 21  12.903799  15.574167  14.320193  10.512889   9.125902   \n",
              "Sujeto Control 29   6.676279   6.039521   6.028376   6.768551   6.709135   \n",
              "\n",
              "                     Canal_6    Canal_7    Canal_8  \n",
              "0                                                   \n",
              "Sujeto Control 15  36.636914  34.376993  33.981398  \n",
              "Sujeto Control 10  10.730803   7.746606  13.707188  \n",
              "Sujeto Control 31  16.746774  16.223706  17.780930  \n",
              "Sujeto Control 21  74.112767  61.977140  69.550354  \n",
              "Sujeto Control 29  19.441852  18.980007  18.523418  "
            ],
            "text/html": [
              "\n",
              "  <div id=\"df-8f8c8571-6f11-4059-b780-2d6e0a4527ea\" class=\"colab-df-container\">\n",
              "    <div>\n",
              "<style scoped>\n",
              "    .dataframe tbody tr th:only-of-type {\n",
              "        vertical-align: middle;\n",
              "    }\n",
              "\n",
              "    .dataframe tbody tr th {\n",
              "        vertical-align: top;\n",
              "    }\n",
              "\n",
              "    .dataframe thead th {\n",
              "        text-align: right;\n",
              "    }\n",
              "</style>\n",
              "<table border=\"1\" class=\"dataframe\">\n",
              "  <thead>\n",
              "    <tr style=\"text-align: right;\">\n",
              "      <th></th>\n",
              "      <th>Canal_1</th>\n",
              "      <th>Canal_2</th>\n",
              "      <th>Canal_3</th>\n",
              "      <th>Canal_4</th>\n",
              "      <th>Canal_5</th>\n",
              "      <th>Canal_6</th>\n",
              "      <th>Canal_7</th>\n",
              "      <th>Canal_8</th>\n",
              "    </tr>\n",
              "    <tr>\n",
              "      <th>0</th>\n",
              "      <th></th>\n",
              "      <th></th>\n",
              "      <th></th>\n",
              "      <th></th>\n",
              "      <th></th>\n",
              "      <th></th>\n",
              "      <th></th>\n",
              "      <th></th>\n",
              "    </tr>\n",
              "  </thead>\n",
              "  <tbody>\n",
              "    <tr>\n",
              "      <th>Sujeto Control 15</th>\n",
              "      <td>8.783733</td>\n",
              "      <td>10.869256</td>\n",
              "      <td>14.714654</td>\n",
              "      <td>14.265100</td>\n",
              "      <td>12.293204</td>\n",
              "      <td>36.636914</td>\n",
              "      <td>34.376993</td>\n",
              "      <td>33.981398</td>\n",
              "    </tr>\n",
              "    <tr>\n",
              "      <th>Sujeto Control 10</th>\n",
              "      <td>5.598777</td>\n",
              "      <td>5.474184</td>\n",
              "      <td>6.368502</td>\n",
              "      <td>5.372581</td>\n",
              "      <td>5.164821</td>\n",
              "      <td>10.730803</td>\n",
              "      <td>7.746606</td>\n",
              "      <td>13.707188</td>\n",
              "    </tr>\n",
              "    <tr>\n",
              "      <th>Sujeto Control 31</th>\n",
              "      <td>7.399127</td>\n",
              "      <td>12.689970</td>\n",
              "      <td>7.178010</td>\n",
              "      <td>6.144328</td>\n",
              "      <td>5.847484</td>\n",
              "      <td>16.746774</td>\n",
              "      <td>16.223706</td>\n",
              "      <td>17.780930</td>\n",
              "    </tr>\n",
              "    <tr>\n",
              "      <th>Sujeto Control 21</th>\n",
              "      <td>12.903799</td>\n",
              "      <td>15.574167</td>\n",
              "      <td>14.320193</td>\n",
              "      <td>10.512889</td>\n",
              "      <td>9.125902</td>\n",
              "      <td>74.112767</td>\n",
              "      <td>61.977140</td>\n",
              "      <td>69.550354</td>\n",
              "    </tr>\n",
              "    <tr>\n",
              "      <th>Sujeto Control 29</th>\n",
              "      <td>6.676279</td>\n",
              "      <td>6.039521</td>\n",
              "      <td>6.028376</td>\n",
              "      <td>6.768551</td>\n",
              "      <td>6.709135</td>\n",
              "      <td>19.441852</td>\n",
              "      <td>18.980007</td>\n",
              "      <td>18.523418</td>\n",
              "    </tr>\n",
              "  </tbody>\n",
              "</table>\n",
              "</div>\n",
              "    <div class=\"colab-df-buttons\">\n",
              "\n",
              "  <div class=\"colab-df-container\">\n",
              "    <button class=\"colab-df-convert\" onclick=\"convertToInteractive('df-8f8c8571-6f11-4059-b780-2d6e0a4527ea')\"\n",
              "            title=\"Convert this dataframe to an interactive table.\"\n",
              "            style=\"display:none;\">\n",
              "\n",
              "  <svg xmlns=\"http://www.w3.org/2000/svg\" height=\"24px\" viewBox=\"0 -960 960 960\">\n",
              "    <path d=\"M120-120v-720h720v720H120Zm60-500h600v-160H180v160Zm220 220h160v-160H400v160Zm0 220h160v-160H400v160ZM180-400h160v-160H180v160Zm440 0h160v-160H620v160ZM180-180h160v-160H180v160Zm440 0h160v-160H620v160Z\"/>\n",
              "  </svg>\n",
              "    </button>\n",
              "\n",
              "  <style>\n",
              "    .colab-df-container {\n",
              "      display:flex;\n",
              "      gap: 12px;\n",
              "    }\n",
              "\n",
              "    .colab-df-convert {\n",
              "      background-color: #E8F0FE;\n",
              "      border: none;\n",
              "      border-radius: 50%;\n",
              "      cursor: pointer;\n",
              "      display: none;\n",
              "      fill: #1967D2;\n",
              "      height: 32px;\n",
              "      padding: 0 0 0 0;\n",
              "      width: 32px;\n",
              "    }\n",
              "\n",
              "    .colab-df-convert:hover {\n",
              "      background-color: #E2EBFA;\n",
              "      box-shadow: 0px 1px 2px rgba(60, 64, 67, 0.3), 0px 1px 3px 1px rgba(60, 64, 67, 0.15);\n",
              "      fill: #174EA6;\n",
              "    }\n",
              "\n",
              "    .colab-df-buttons div {\n",
              "      margin-bottom: 4px;\n",
              "    }\n",
              "\n",
              "    [theme=dark] .colab-df-convert {\n",
              "      background-color: #3B4455;\n",
              "      fill: #D2E3FC;\n",
              "    }\n",
              "\n",
              "    [theme=dark] .colab-df-convert:hover {\n",
              "      background-color: #434B5C;\n",
              "      box-shadow: 0px 1px 3px 1px rgba(0, 0, 0, 0.15);\n",
              "      filter: drop-shadow(0px 1px 2px rgba(0, 0, 0, 0.3));\n",
              "      fill: #FFFFFF;\n",
              "    }\n",
              "  </style>\n",
              "\n",
              "    <script>\n",
              "      const buttonEl =\n",
              "        document.querySelector('#df-8f8c8571-6f11-4059-b780-2d6e0a4527ea button.colab-df-convert');\n",
              "      buttonEl.style.display =\n",
              "        google.colab.kernel.accessAllowed ? 'block' : 'none';\n",
              "\n",
              "      async function convertToInteractive(key) {\n",
              "        const element = document.querySelector('#df-8f8c8571-6f11-4059-b780-2d6e0a4527ea');\n",
              "        const dataTable =\n",
              "          await google.colab.kernel.invokeFunction('convertToInteractive',\n",
              "                                                    [key], {});\n",
              "        if (!dataTable) return;\n",
              "\n",
              "        const docLinkHtml = 'Like what you see? Visit the ' +\n",
              "          '<a target=\"_blank\" href=https://colab.research.google.com/notebooks/data_table.ipynb>data table notebook</a>'\n",
              "          + ' to learn more about interactive tables.';\n",
              "        element.innerHTML = '';\n",
              "        dataTable['output_type'] = 'display_data';\n",
              "        await google.colab.output.renderOutput(dataTable, element);\n",
              "        const docLink = document.createElement('div');\n",
              "        docLink.innerHTML = docLinkHtml;\n",
              "        element.appendChild(docLink);\n",
              "      }\n",
              "    </script>\n",
              "  </div>\n",
              "\n",
              "\n",
              "    <div id=\"df-506201c9-16d3-4898-91b2-fd803ef3def5\">\n",
              "      <button class=\"colab-df-quickchart\" onclick=\"quickchart('df-506201c9-16d3-4898-91b2-fd803ef3def5')\"\n",
              "                title=\"Suggest charts\"\n",
              "                style=\"display:none;\">\n",
              "\n",
              "<svg xmlns=\"http://www.w3.org/2000/svg\" height=\"24px\"viewBox=\"0 0 24 24\"\n",
              "     width=\"24px\">\n",
              "    <g>\n",
              "        <path d=\"M19 3H5c-1.1 0-2 .9-2 2v14c0 1.1.9 2 2 2h14c1.1 0 2-.9 2-2V5c0-1.1-.9-2-2-2zM9 17H7v-7h2v7zm4 0h-2V7h2v10zm4 0h-2v-4h2v4z\"/>\n",
              "    </g>\n",
              "</svg>\n",
              "      </button>\n",
              "\n",
              "<style>\n",
              "  .colab-df-quickchart {\n",
              "      --bg-color: #E8F0FE;\n",
              "      --fill-color: #1967D2;\n",
              "      --hover-bg-color: #E2EBFA;\n",
              "      --hover-fill-color: #174EA6;\n",
              "      --disabled-fill-color: #AAA;\n",
              "      --disabled-bg-color: #DDD;\n",
              "  }\n",
              "\n",
              "  [theme=dark] .colab-df-quickchart {\n",
              "      --bg-color: #3B4455;\n",
              "      --fill-color: #D2E3FC;\n",
              "      --hover-bg-color: #434B5C;\n",
              "      --hover-fill-color: #FFFFFF;\n",
              "      --disabled-bg-color: #3B4455;\n",
              "      --disabled-fill-color: #666;\n",
              "  }\n",
              "\n",
              "  .colab-df-quickchart {\n",
              "    background-color: var(--bg-color);\n",
              "    border: none;\n",
              "    border-radius: 50%;\n",
              "    cursor: pointer;\n",
              "    display: none;\n",
              "    fill: var(--fill-color);\n",
              "    height: 32px;\n",
              "    padding: 0;\n",
              "    width: 32px;\n",
              "  }\n",
              "\n",
              "  .colab-df-quickchart:hover {\n",
              "    background-color: var(--hover-bg-color);\n",
              "    box-shadow: 0 1px 2px rgba(60, 64, 67, 0.3), 0 1px 3px 1px rgba(60, 64, 67, 0.15);\n",
              "    fill: var(--button-hover-fill-color);\n",
              "  }\n",
              "\n",
              "  .colab-df-quickchart-complete:disabled,\n",
              "  .colab-df-quickchart-complete:disabled:hover {\n",
              "    background-color: var(--disabled-bg-color);\n",
              "    fill: var(--disabled-fill-color);\n",
              "    box-shadow: none;\n",
              "  }\n",
              "\n",
              "  .colab-df-spinner {\n",
              "    border: 2px solid var(--fill-color);\n",
              "    border-color: transparent;\n",
              "    border-bottom-color: var(--fill-color);\n",
              "    animation:\n",
              "      spin 1s steps(1) infinite;\n",
              "  }\n",
              "\n",
              "  @keyframes spin {\n",
              "    0% {\n",
              "      border-color: transparent;\n",
              "      border-bottom-color: var(--fill-color);\n",
              "      border-left-color: var(--fill-color);\n",
              "    }\n",
              "    20% {\n",
              "      border-color: transparent;\n",
              "      border-left-color: var(--fill-color);\n",
              "      border-top-color: var(--fill-color);\n",
              "    }\n",
              "    30% {\n",
              "      border-color: transparent;\n",
              "      border-left-color: var(--fill-color);\n",
              "      border-top-color: var(--fill-color);\n",
              "      border-right-color: var(--fill-color);\n",
              "    }\n",
              "    40% {\n",
              "      border-color: transparent;\n",
              "      border-right-color: var(--fill-color);\n",
              "      border-top-color: var(--fill-color);\n",
              "    }\n",
              "    60% {\n",
              "      border-color: transparent;\n",
              "      border-right-color: var(--fill-color);\n",
              "    }\n",
              "    80% {\n",
              "      border-color: transparent;\n",
              "      border-right-color: var(--fill-color);\n",
              "      border-bottom-color: var(--fill-color);\n",
              "    }\n",
              "    90% {\n",
              "      border-color: transparent;\n",
              "      border-bottom-color: var(--fill-color);\n",
              "    }\n",
              "  }\n",
              "</style>\n",
              "\n",
              "      <script>\n",
              "        async function quickchart(key) {\n",
              "          const quickchartButtonEl =\n",
              "            document.querySelector('#' + key + ' button');\n",
              "          quickchartButtonEl.disabled = true;  // To prevent multiple clicks.\n",
              "          quickchartButtonEl.classList.add('colab-df-spinner');\n",
              "          try {\n",
              "            const charts = await google.colab.kernel.invokeFunction(\n",
              "                'suggestCharts', [key], {});\n",
              "          } catch (error) {\n",
              "            console.error('Error during call to suggestCharts:', error);\n",
              "          }\n",
              "          quickchartButtonEl.classList.remove('colab-df-spinner');\n",
              "          quickchartButtonEl.classList.add('colab-df-quickchart-complete');\n",
              "        }\n",
              "        (() => {\n",
              "          let quickchartButtonEl =\n",
              "            document.querySelector('#df-506201c9-16d3-4898-91b2-fd803ef3def5 button');\n",
              "          quickchartButtonEl.style.display =\n",
              "            google.colab.kernel.accessAllowed ? 'block' : 'none';\n",
              "        })();\n",
              "      </script>\n",
              "    </div>\n",
              "\n",
              "    </div>\n",
              "  </div>\n"
            ],
            "application/vnd.google.colaboratory.intrinsic+json": {
              "type": "dataframe",
              "variable_name": "df_control",
              "summary": "{\n  \"name\": \"df_control\",\n  \"rows\": 36,\n  \"fields\": [\n    {\n      \"column\": \"Canal_1\",\n      \"properties\": {\n        \"dtype\": \"number\",\n        \"std\": 6.1790456466607795,\n        \"min\": 2.457531389175563,\n        \"max\": 27.069631061295258,\n        \"num_unique_values\": 36,\n        \"samples\": [\n          5.709860240219089,\n          14.275562032451468,\n          13.703094535913515\n        ],\n        \"semantic_type\": \"\",\n        \"description\": \"\"\n      }\n    },\n    {\n      \"column\": \"Canal_2\",\n      \"properties\": {\n        \"dtype\": \"number\",\n        \"std\": 7.104405508178075,\n        \"min\": 3.052924973704055,\n        \"max\": 34.294858039243124,\n        \"num_unique_values\": 36,\n        \"samples\": [\n          6.9496540838057435,\n          13.102419626758028,\n          10.524941028328769\n        ],\n        \"semantic_type\": \"\",\n        \"description\": \"\"\n      }\n    },\n    {\n      \"column\": \"Canal_3\",\n      \"properties\": {\n        \"dtype\": \"number\",\n        \"std\": 8.195800345928753,\n        \"min\": 1.4189647090668907,\n        \"max\": 38.74097907016894,\n        \"num_unique_values\": 36,\n        \"samples\": [\n          7.8467117453761315,\n          8.691999477964325,\n          22.541205939590412\n        ],\n        \"semantic_type\": \"\",\n        \"description\": \"\"\n      }\n    },\n    {\n      \"column\": \"Canal_4\",\n      \"properties\": {\n        \"dtype\": \"number\",\n        \"std\": 8.094393693591208,\n        \"min\": 2.068858931199964,\n        \"max\": 39.89334794236517,\n        \"num_unique_values\": 36,\n        \"samples\": [\n          4.6553991266393275,\n          8.622302966325062,\n          24.746339396973692\n        ],\n        \"semantic_type\": \"\",\n        \"description\": \"\"\n      }\n    },\n    {\n      \"column\": \"Canal_5\",\n      \"properties\": {\n        \"dtype\": \"number\",\n        \"std\": 7.396761155804457,\n        \"min\": 2.051997640303022,\n        \"max\": 35.19321790354161,\n        \"num_unique_values\": 36,\n        \"samples\": [\n          4.959542197576804,\n          13.103186211223344,\n          20.112628719242913\n        ],\n        \"semantic_type\": \"\",\n        \"description\": \"\"\n      }\n    },\n    {\n      \"column\": \"Canal_6\",\n      \"properties\": {\n        \"dtype\": \"number\",\n        \"std\": 40.913796479090614,\n        \"min\": 3.60760137704849,\n        \"max\": 172.6866672384802,\n        \"num_unique_values\": 36,\n        \"samples\": [\n          19.27789700274181,\n          41.68530920375937,\n          21.150935855733927\n        ],\n        \"semantic_type\": \"\",\n        \"description\": \"\"\n      }\n    },\n    {\n      \"column\": \"Canal_7\",\n      \"properties\": {\n        \"dtype\": \"number\",\n        \"std\": 32.35737819292919,\n        \"min\": 7.7466063880670735,\n        \"max\": 112.44551473876092,\n        \"num_unique_values\": 36,\n        \"samples\": [\n          18.334540386435688,\n          25.560552861105343,\n          16.594332224316034\n        ],\n        \"semantic_type\": \"\",\n        \"description\": \"\"\n      }\n    },\n    {\n      \"column\": \"Canal_8\",\n      \"properties\": {\n        \"dtype\": \"number\",\n        \"std\": 50.166678584473104,\n        \"min\": 7.065719459637267,\n        \"max\": 190.8169793271047,\n        \"num_unique_values\": 36,\n        \"samples\": [\n          24.47940453288402,\n          33.92617412775771,\n          17.078777830912024\n        ],\n        \"semantic_type\": \"\",\n        \"description\": \"\"\n      }\n    }\n  ]\n}"
            }
          },
          "metadata": {},
          "execution_count": 18
        }
      ]
    },
    {
      "cell_type": "code",
      "source": [
        "import pandas as pd\n",
        "import numpy as np\n",
        "import scipy.io as sio #ayuda para trabajar con archivos tipo .MAT\n",
        "\n",
        "archivos_park=os.listdir(directorio_actual + \"/parkinson\")\n",
        "print(len(archivos_park))\n",
        "\n",
        "#Cargar los controles de la carpeta control\n",
        "for i in range(0,len(archivos_park)):\n",
        "    #ruta de un archivo\n",
        "    sujetoi=(directorio_actual + \"/parkinson\" + \"/\" + archivos_park[i]);\n",
        "    #CARGAR EL ARCHIVO\n",
        "    data = sio.loadmat(sujetoi);\n",
        "    data_parkinson = data[\"data\"];\n",
        "\n",
        "# Lista para guardar energías promedio de cada sujeto\n",
        "energias_parkinson = []\n",
        "\n",
        "# Iteramos sobre los archivos de sujetos con Parkinson\n",
        "for archivo in archivos_park:\n",
        "    ruta_p = directorio_actual + \"/parkinson/\" + archivo\n",
        "    data_p = sio.loadmat(ruta_p)[\"data\"]   # data con forma (canales, muestras, epocas)\n",
        "\n",
        "    # Usamos la función definida previamente\n",
        "    energias_sujeto_p = energia_promedio(data_p)  # devuelve un array con la energía promedio por canal\n",
        "    energias_parkinson.append(energias_sujeto_p)\n",
        "\n",
        "# Convertimos la lista a DataFrame\n",
        "canales_p = energias_parkinson[0].shape[0]  # número de canales\n",
        "df_parkinson = pd.DataFrame(energias_parkinson, columns=[f\"Canal_{i+1}\" for i in range(canales_p)])\n",
        "\n",
        "# Ajustamos el índice para que sean los sujetos\n",
        "df_parkinson.index = archivos_park\n",
        "df_parkinson.index = df_parkinson.index.str.extract(r'(\\d+)')[0].astype(int)  # extrae el número\n",
        "df_parkinson.index = \"Sujeto Parkinson \" + df_parkinson.index.astype(str)\n",
        "\n",
        "# Mostramos los primeros registros\n",
        "df_parkinson.head()\n"
      ],
      "metadata": {
        "colab": {
          "base_uri": "https://localhost:8080/",
          "height": 255
        },
        "id": "wPVh-BWnI57z",
        "outputId": "8d086286-fa03-4312-9c01-6d2ce0f31db3"
      },
      "execution_count": 20,
      "outputs": [
        {
          "output_type": "stream",
          "name": "stdout",
          "text": [
            "23\n"
          ]
        },
        {
          "output_type": "execute_result",
          "data": {
            "text/plain": [
              "                       Canal_1    Canal_2    Canal_3    Canal_4    Canal_5  \\\n",
              "0                                                                            \n",
              "Sujeto Parkinson 26   7.266230   8.930096  15.060492  14.784637  15.027486   \n",
              "Sujeto Parkinson 18  11.829369  11.995128  15.316873  11.444447   9.966158   \n",
              "Sujeto Parkinson 4    8.997830   6.000801   6.143172   7.392954   8.529217   \n",
              "Sujeto Parkinson 20  11.723026  13.045671  18.320266  12.830111  15.665275   \n",
              "Sujeto Parkinson 41   8.388289  10.234343  12.660311  12.018236  10.361866   \n",
              "\n",
              "                       Canal_6    Canal_7    Canal_8  \n",
              "0                                                     \n",
              "Sujeto Parkinson 26  11.044091   9.131259   9.227034  \n",
              "Sujeto Parkinson 18  32.580716  30.276417  29.220524  \n",
              "Sujeto Parkinson 4   31.991725  26.857730  33.201820  \n",
              "Sujeto Parkinson 20  46.848064  33.845454  55.562172  \n",
              "Sujeto Parkinson 41  38.195678  30.299565  40.792706  "
            ],
            "text/html": [
              "\n",
              "  <div id=\"df-e6a1f468-c7fe-4665-be2f-2f13a8c35045\" class=\"colab-df-container\">\n",
              "    <div>\n",
              "<style scoped>\n",
              "    .dataframe tbody tr th:only-of-type {\n",
              "        vertical-align: middle;\n",
              "    }\n",
              "\n",
              "    .dataframe tbody tr th {\n",
              "        vertical-align: top;\n",
              "    }\n",
              "\n",
              "    .dataframe thead th {\n",
              "        text-align: right;\n",
              "    }\n",
              "</style>\n",
              "<table border=\"1\" class=\"dataframe\">\n",
              "  <thead>\n",
              "    <tr style=\"text-align: right;\">\n",
              "      <th></th>\n",
              "      <th>Canal_1</th>\n",
              "      <th>Canal_2</th>\n",
              "      <th>Canal_3</th>\n",
              "      <th>Canal_4</th>\n",
              "      <th>Canal_5</th>\n",
              "      <th>Canal_6</th>\n",
              "      <th>Canal_7</th>\n",
              "      <th>Canal_8</th>\n",
              "    </tr>\n",
              "    <tr>\n",
              "      <th>0</th>\n",
              "      <th></th>\n",
              "      <th></th>\n",
              "      <th></th>\n",
              "      <th></th>\n",
              "      <th></th>\n",
              "      <th></th>\n",
              "      <th></th>\n",
              "      <th></th>\n",
              "    </tr>\n",
              "  </thead>\n",
              "  <tbody>\n",
              "    <tr>\n",
              "      <th>Sujeto Parkinson 26</th>\n",
              "      <td>7.266230</td>\n",
              "      <td>8.930096</td>\n",
              "      <td>15.060492</td>\n",
              "      <td>14.784637</td>\n",
              "      <td>15.027486</td>\n",
              "      <td>11.044091</td>\n",
              "      <td>9.131259</td>\n",
              "      <td>9.227034</td>\n",
              "    </tr>\n",
              "    <tr>\n",
              "      <th>Sujeto Parkinson 18</th>\n",
              "      <td>11.829369</td>\n",
              "      <td>11.995128</td>\n",
              "      <td>15.316873</td>\n",
              "      <td>11.444447</td>\n",
              "      <td>9.966158</td>\n",
              "      <td>32.580716</td>\n",
              "      <td>30.276417</td>\n",
              "      <td>29.220524</td>\n",
              "    </tr>\n",
              "    <tr>\n",
              "      <th>Sujeto Parkinson 4</th>\n",
              "      <td>8.997830</td>\n",
              "      <td>6.000801</td>\n",
              "      <td>6.143172</td>\n",
              "      <td>7.392954</td>\n",
              "      <td>8.529217</td>\n",
              "      <td>31.991725</td>\n",
              "      <td>26.857730</td>\n",
              "      <td>33.201820</td>\n",
              "    </tr>\n",
              "    <tr>\n",
              "      <th>Sujeto Parkinson 20</th>\n",
              "      <td>11.723026</td>\n",
              "      <td>13.045671</td>\n",
              "      <td>18.320266</td>\n",
              "      <td>12.830111</td>\n",
              "      <td>15.665275</td>\n",
              "      <td>46.848064</td>\n",
              "      <td>33.845454</td>\n",
              "      <td>55.562172</td>\n",
              "    </tr>\n",
              "    <tr>\n",
              "      <th>Sujeto Parkinson 41</th>\n",
              "      <td>8.388289</td>\n",
              "      <td>10.234343</td>\n",
              "      <td>12.660311</td>\n",
              "      <td>12.018236</td>\n",
              "      <td>10.361866</td>\n",
              "      <td>38.195678</td>\n",
              "      <td>30.299565</td>\n",
              "      <td>40.792706</td>\n",
              "    </tr>\n",
              "  </tbody>\n",
              "</table>\n",
              "</div>\n",
              "    <div class=\"colab-df-buttons\">\n",
              "\n",
              "  <div class=\"colab-df-container\">\n",
              "    <button class=\"colab-df-convert\" onclick=\"convertToInteractive('df-e6a1f468-c7fe-4665-be2f-2f13a8c35045')\"\n",
              "            title=\"Convert this dataframe to an interactive table.\"\n",
              "            style=\"display:none;\">\n",
              "\n",
              "  <svg xmlns=\"http://www.w3.org/2000/svg\" height=\"24px\" viewBox=\"0 -960 960 960\">\n",
              "    <path d=\"M120-120v-720h720v720H120Zm60-500h600v-160H180v160Zm220 220h160v-160H400v160Zm0 220h160v-160H400v160ZM180-400h160v-160H180v160Zm440 0h160v-160H620v160ZM180-180h160v-160H180v160Zm440 0h160v-160H620v160Z\"/>\n",
              "  </svg>\n",
              "    </button>\n",
              "\n",
              "  <style>\n",
              "    .colab-df-container {\n",
              "      display:flex;\n",
              "      gap: 12px;\n",
              "    }\n",
              "\n",
              "    .colab-df-convert {\n",
              "      background-color: #E8F0FE;\n",
              "      border: none;\n",
              "      border-radius: 50%;\n",
              "      cursor: pointer;\n",
              "      display: none;\n",
              "      fill: #1967D2;\n",
              "      height: 32px;\n",
              "      padding: 0 0 0 0;\n",
              "      width: 32px;\n",
              "    }\n",
              "\n",
              "    .colab-df-convert:hover {\n",
              "      background-color: #E2EBFA;\n",
              "      box-shadow: 0px 1px 2px rgba(60, 64, 67, 0.3), 0px 1px 3px 1px rgba(60, 64, 67, 0.15);\n",
              "      fill: #174EA6;\n",
              "    }\n",
              "\n",
              "    .colab-df-buttons div {\n",
              "      margin-bottom: 4px;\n",
              "    }\n",
              "\n",
              "    [theme=dark] .colab-df-convert {\n",
              "      background-color: #3B4455;\n",
              "      fill: #D2E3FC;\n",
              "    }\n",
              "\n",
              "    [theme=dark] .colab-df-convert:hover {\n",
              "      background-color: #434B5C;\n",
              "      box-shadow: 0px 1px 3px 1px rgba(0, 0, 0, 0.15);\n",
              "      filter: drop-shadow(0px 1px 2px rgba(0, 0, 0, 0.3));\n",
              "      fill: #FFFFFF;\n",
              "    }\n",
              "  </style>\n",
              "\n",
              "    <script>\n",
              "      const buttonEl =\n",
              "        document.querySelector('#df-e6a1f468-c7fe-4665-be2f-2f13a8c35045 button.colab-df-convert');\n",
              "      buttonEl.style.display =\n",
              "        google.colab.kernel.accessAllowed ? 'block' : 'none';\n",
              "\n",
              "      async function convertToInteractive(key) {\n",
              "        const element = document.querySelector('#df-e6a1f468-c7fe-4665-be2f-2f13a8c35045');\n",
              "        const dataTable =\n",
              "          await google.colab.kernel.invokeFunction('convertToInteractive',\n",
              "                                                    [key], {});\n",
              "        if (!dataTable) return;\n",
              "\n",
              "        const docLinkHtml = 'Like what you see? Visit the ' +\n",
              "          '<a target=\"_blank\" href=https://colab.research.google.com/notebooks/data_table.ipynb>data table notebook</a>'\n",
              "          + ' to learn more about interactive tables.';\n",
              "        element.innerHTML = '';\n",
              "        dataTable['output_type'] = 'display_data';\n",
              "        await google.colab.output.renderOutput(dataTable, element);\n",
              "        const docLink = document.createElement('div');\n",
              "        docLink.innerHTML = docLinkHtml;\n",
              "        element.appendChild(docLink);\n",
              "      }\n",
              "    </script>\n",
              "  </div>\n",
              "\n",
              "\n",
              "    <div id=\"df-6c12c306-b689-476a-a49e-851778e0a8b4\">\n",
              "      <button class=\"colab-df-quickchart\" onclick=\"quickchart('df-6c12c306-b689-476a-a49e-851778e0a8b4')\"\n",
              "                title=\"Suggest charts\"\n",
              "                style=\"display:none;\">\n",
              "\n",
              "<svg xmlns=\"http://www.w3.org/2000/svg\" height=\"24px\"viewBox=\"0 0 24 24\"\n",
              "     width=\"24px\">\n",
              "    <g>\n",
              "        <path d=\"M19 3H5c-1.1 0-2 .9-2 2v14c0 1.1.9 2 2 2h14c1.1 0 2-.9 2-2V5c0-1.1-.9-2-2-2zM9 17H7v-7h2v7zm4 0h-2V7h2v10zm4 0h-2v-4h2v4z\"/>\n",
              "    </g>\n",
              "</svg>\n",
              "      </button>\n",
              "\n",
              "<style>\n",
              "  .colab-df-quickchart {\n",
              "      --bg-color: #E8F0FE;\n",
              "      --fill-color: #1967D2;\n",
              "      --hover-bg-color: #E2EBFA;\n",
              "      --hover-fill-color: #174EA6;\n",
              "      --disabled-fill-color: #AAA;\n",
              "      --disabled-bg-color: #DDD;\n",
              "  }\n",
              "\n",
              "  [theme=dark] .colab-df-quickchart {\n",
              "      --bg-color: #3B4455;\n",
              "      --fill-color: #D2E3FC;\n",
              "      --hover-bg-color: #434B5C;\n",
              "      --hover-fill-color: #FFFFFF;\n",
              "      --disabled-bg-color: #3B4455;\n",
              "      --disabled-fill-color: #666;\n",
              "  }\n",
              "\n",
              "  .colab-df-quickchart {\n",
              "    background-color: var(--bg-color);\n",
              "    border: none;\n",
              "    border-radius: 50%;\n",
              "    cursor: pointer;\n",
              "    display: none;\n",
              "    fill: var(--fill-color);\n",
              "    height: 32px;\n",
              "    padding: 0;\n",
              "    width: 32px;\n",
              "  }\n",
              "\n",
              "  .colab-df-quickchart:hover {\n",
              "    background-color: var(--hover-bg-color);\n",
              "    box-shadow: 0 1px 2px rgba(60, 64, 67, 0.3), 0 1px 3px 1px rgba(60, 64, 67, 0.15);\n",
              "    fill: var(--button-hover-fill-color);\n",
              "  }\n",
              "\n",
              "  .colab-df-quickchart-complete:disabled,\n",
              "  .colab-df-quickchart-complete:disabled:hover {\n",
              "    background-color: var(--disabled-bg-color);\n",
              "    fill: var(--disabled-fill-color);\n",
              "    box-shadow: none;\n",
              "  }\n",
              "\n",
              "  .colab-df-spinner {\n",
              "    border: 2px solid var(--fill-color);\n",
              "    border-color: transparent;\n",
              "    border-bottom-color: var(--fill-color);\n",
              "    animation:\n",
              "      spin 1s steps(1) infinite;\n",
              "  }\n",
              "\n",
              "  @keyframes spin {\n",
              "    0% {\n",
              "      border-color: transparent;\n",
              "      border-bottom-color: var(--fill-color);\n",
              "      border-left-color: var(--fill-color);\n",
              "    }\n",
              "    20% {\n",
              "      border-color: transparent;\n",
              "      border-left-color: var(--fill-color);\n",
              "      border-top-color: var(--fill-color);\n",
              "    }\n",
              "    30% {\n",
              "      border-color: transparent;\n",
              "      border-left-color: var(--fill-color);\n",
              "      border-top-color: var(--fill-color);\n",
              "      border-right-color: var(--fill-color);\n",
              "    }\n",
              "    40% {\n",
              "      border-color: transparent;\n",
              "      border-right-color: var(--fill-color);\n",
              "      border-top-color: var(--fill-color);\n",
              "    }\n",
              "    60% {\n",
              "      border-color: transparent;\n",
              "      border-right-color: var(--fill-color);\n",
              "    }\n",
              "    80% {\n",
              "      border-color: transparent;\n",
              "      border-right-color: var(--fill-color);\n",
              "      border-bottom-color: var(--fill-color);\n",
              "    }\n",
              "    90% {\n",
              "      border-color: transparent;\n",
              "      border-bottom-color: var(--fill-color);\n",
              "    }\n",
              "  }\n",
              "</style>\n",
              "\n",
              "      <script>\n",
              "        async function quickchart(key) {\n",
              "          const quickchartButtonEl =\n",
              "            document.querySelector('#' + key + ' button');\n",
              "          quickchartButtonEl.disabled = true;  // To prevent multiple clicks.\n",
              "          quickchartButtonEl.classList.add('colab-df-spinner');\n",
              "          try {\n",
              "            const charts = await google.colab.kernel.invokeFunction(\n",
              "                'suggestCharts', [key], {});\n",
              "          } catch (error) {\n",
              "            console.error('Error during call to suggestCharts:', error);\n",
              "          }\n",
              "          quickchartButtonEl.classList.remove('colab-df-spinner');\n",
              "          quickchartButtonEl.classList.add('colab-df-quickchart-complete');\n",
              "        }\n",
              "        (() => {\n",
              "          let quickchartButtonEl =\n",
              "            document.querySelector('#df-6c12c306-b689-476a-a49e-851778e0a8b4 button');\n",
              "          quickchartButtonEl.style.display =\n",
              "            google.colab.kernel.accessAllowed ? 'block' : 'none';\n",
              "        })();\n",
              "      </script>\n",
              "    </div>\n",
              "\n",
              "    </div>\n",
              "  </div>\n"
            ],
            "application/vnd.google.colaboratory.intrinsic+json": {
              "type": "dataframe",
              "variable_name": "df_parkinson",
              "summary": "{\n  \"name\": \"df_parkinson\",\n  \"rows\": 23,\n  \"fields\": [\n    {\n      \"column\": \"Canal_1\",\n      \"properties\": {\n        \"dtype\": \"number\",\n        \"std\": 6.320226361968504,\n        \"min\": 4.790905235278145,\n        \"max\": 24.96891666179295,\n        \"num_unique_values\": 23,\n        \"samples\": [\n          14.701097805220963,\n          4.790905235278145,\n          7.266229741275389\n        ],\n        \"semantic_type\": \"\",\n        \"description\": \"\"\n      }\n    },\n    {\n      \"column\": \"Canal_2\",\n      \"properties\": {\n        \"dtype\": \"number\",\n        \"std\": 7.133821140531046,\n        \"min\": 5.420593631121547,\n        \"max\": 32.162384761689964,\n        \"num_unique_values\": 23,\n        \"samples\": [\n          15.60729608576814,\n          7.004286307653305,\n          8.93009642044299\n        ],\n        \"semantic_type\": \"\",\n        \"description\": \"\"\n      }\n    },\n    {\n      \"column\": \"Canal_3\",\n      \"properties\": {\n        \"dtype\": \"number\",\n        \"std\": 9.352376229810401,\n        \"min\": 4.794615128289364,\n        \"max\": 42.58795749622714,\n        \"num_unique_values\": 23,\n        \"samples\": [\n          15.331985077179839,\n          4.794615128289364,\n          15.060491748630383\n        ],\n        \"semantic_type\": \"\",\n        \"description\": \"\"\n      }\n    },\n    {\n      \"column\": \"Canal_4\",\n      \"properties\": {\n        \"dtype\": \"number\",\n        \"std\": 8.163993454677698,\n        \"min\": 4.687042834670228,\n        \"max\": 39.043612926052965,\n        \"num_unique_values\": 23,\n        \"samples\": [\n          12.348670757134718,\n          4.687042834670228,\n          14.784636546762965\n        ],\n        \"semantic_type\": \"\",\n        \"description\": \"\"\n      }\n    },\n    {\n      \"column\": \"Canal_5\",\n      \"properties\": {\n        \"dtype\": \"number\",\n        \"std\": 7.360375295531705,\n        \"min\": 4.077470928968537,\n        \"max\": 32.89631271812795,\n        \"num_unique_values\": 23,\n        \"samples\": [\n          12.648327382529587,\n          4.077470928968537,\n          15.02748580059543\n        ],\n        \"semantic_type\": \"\",\n        \"description\": \"\"\n      }\n    },\n    {\n      \"column\": \"Canal_6\",\n      \"properties\": {\n        \"dtype\": \"number\",\n        \"std\": 61.630763790753036,\n        \"min\": 11.044090581110186,\n        \"max\": 229.3157717318451,\n        \"num_unique_values\": 23,\n        \"samples\": [\n          33.98055811578089,\n          14.485424497059068,\n          11.044090581110186\n        ],\n        \"semantic_type\": \"\",\n        \"description\": \"\"\n      }\n    },\n    {\n      \"column\": \"Canal_7\",\n      \"properties\": {\n        \"dtype\": \"number\",\n        \"std\": 46.781283088759636,\n        \"min\": 9.13125931630903,\n        \"max\": 200.13331888080816,\n        \"num_unique_values\": 23,\n        \"samples\": [\n          37.43308975543057,\n          20.35294869732859,\n          9.13125931630903\n        ],\n        \"semantic_type\": \"\",\n        \"description\": \"\"\n      }\n    },\n    {\n      \"column\": \"Canal_8\",\n      \"properties\": {\n        \"dtype\": \"number\",\n        \"std\": 69.17957456865494,\n        \"min\": 9.227034244520835,\n        \"max\": 277.06379010716614,\n        \"num_unique_values\": 23,\n        \"samples\": [\n          51.76122091964812,\n          18.31242927940679,\n          9.227034244520835\n        ],\n        \"semantic_type\": \"\",\n        \"description\": \"\"\n      }\n    }\n  ]\n}"
            }
          },
          "metadata": {},
          "execution_count": 20
        }
      ]
    },
    {
      "cell_type": "markdown",
      "source": [
        "## Análisis estadístico comparativo entre grupos de sujetos"
      ],
      "metadata": {
        "id": "clnGwb2oEngF"
      }
    },
    {
      "cell_type": "markdown",
      "source": [
        "### Prueba de normalidad\n",
        "\n",
        "Para la prueba de normalidad se aplica el test de Shapiro en donde se busca conocer si la distribución entre conjuntos, es normal.\n",
        "\n",
        "Para este analisis se toma cada uno de los canales y se mide la normalidad entre todos los sujetos para los valores de energia de cada canal a estudiar. Es decir, se mide la normalidad por canal y no por sujeto."
      ],
      "metadata": {
        "id": "1mnLcf3POq9Y"
      }
    },
    {
      "cell_type": "code",
      "source": [
        "from scipy.stats import shapiro\n",
        "\n",
        "alpha = 0.05\n",
        "\n",
        "for canal in df_control.columns: #recorre cada canal\n",
        "    # datos de cada grupo\n",
        "    datos_control = df_control[canal].dropna().values #valores de todos los sujetos para cada canal\n",
        "    datos_parkinson = df_parkinson[canal].dropna().values  #valores de todos los sujetos para cada canal\n",
        "\n",
        "    # prueba de Shapiro-Wilk\n",
        "    _, p_control = shapiro(datos_control)\n",
        "    _, p_parkinson = shapiro(datos_parkinson)\n",
        "\n",
        "    # interpretación de los resultados de Shapiro\n",
        "    normal_c = \"Normal\" if p_control > alpha else \"No normal\"\n",
        "    normal_p = \"Normal\" if p_parkinson > alpha else \"No normal\"\n",
        "\n",
        "    #Imprime los valores de los resultados\n",
        "    print(f\"{canal}: Control -> p={p_control:.4f} ({normal_c}), \"\n",
        "          f\"Parkinson -> p={p_parkinson:.4f} ({normal_p})\")\n"
      ],
      "metadata": {
        "colab": {
          "base_uri": "https://localhost:8080/"
        },
        "id": "j1AH6tW6Ot4U",
        "outputId": "a74f0505-e279-4bcb-9611-c45275653f97"
      },
      "execution_count": 21,
      "outputs": [
        {
          "output_type": "stream",
          "name": "stdout",
          "text": [
            "Canal_1: Control -> p=0.0063 (No normal), Parkinson -> p=0.0144 (No normal)\n",
            "Canal_2: Control -> p=0.0040 (No normal), Parkinson -> p=0.0045 (No normal)\n",
            "Canal_3: Control -> p=0.0089 (No normal), Parkinson -> p=0.0009 (No normal)\n",
            "Canal_4: Control -> p=0.0002 (No normal), Parkinson -> p=0.0003 (No normal)\n",
            "Canal_5: Control -> p=0.0008 (No normal), Parkinson -> p=0.0053 (No normal)\n",
            "Canal_6: Control -> p=0.0000 (No normal), Parkinson -> p=0.0000 (No normal)\n",
            "Canal_7: Control -> p=0.0000 (No normal), Parkinson -> p=0.0000 (No normal)\n",
            "Canal_8: Control -> p=0.0000 (No normal), Parkinson -> p=0.0000 (No normal)\n"
          ]
        }
      ]
    },
    {
      "cell_type": "markdown",
      "source": [
        "Para este análisis se realiza una comparativa entre los valores obtenidos y los valores deseados bajo la hipótesis de normalidad, esto se hace con el fin de observar la desviación de los datos teniendo en cuenta una normalidad [1].\n",
        "\n",
        "Teniendo en cuenta el umbral a usar que corresponde a ser 0.05, se establece que:\n",
        "\n",
        "- ***Hipotesis nula***: Los datos de los canales de todos los sujetos proviene de una distribución normal\n",
        "- ***Hipotesis alternativa***: Los datos del canal no provienen de una distribución normal\n",
        "\n",
        "Como se puede observar en los datos que se obtuvieron para ambos grupos poblacionales, ninguno de los 8 canales cumple con una distribución normal ya que cuentan con valores menores de 0.05 por ende se dice que se rechaza la hipotesis nula por ende los datos no provienen de una distribución normal. Estos resultados son los esperados ya que es común que en señales fisiológicas se obtengan este tipo de resultados alejados de la normalidad.\n",
        "\n",
        "Teniendo en cuenta estos resultados, se prosigue a realizar la prueba de  homocedasticidad."
      ],
      "metadata": {
        "id": "4LO0XKmwUC9_"
      }
    },
    {
      "cell_type": "markdown",
      "source": [
        "### Prueba de  homocedasticidad"
      ],
      "metadata": {
        "id": "MV-kBMtAUgJy"
      }
    },
    {
      "cell_type": "code",
      "source": [
        "from scipy.stats import levene\n",
        "\n",
        "for canal in df_control.columns: #empieza a recorrer cada canal\n",
        "    prueba_varianza, p_valor = levene(df_control[canal], df_parkinson[canal])\n",
        "    print(f\"{canal} p-valor homocedasticidad: {p_valor}\")"
      ],
      "metadata": {
        "colab": {
          "base_uri": "https://localhost:8080/"
        },
        "id": "YC9ebH5lYYui",
        "outputId": "5b637057-0107-4af8-9344-576a05a09410"
      },
      "execution_count": 22,
      "outputs": [
        {
          "output_type": "stream",
          "name": "stdout",
          "text": [
            "Canal_1 p-valor homocedasticidad: 0.8848020019348577\n",
            "Canal_2 p-valor homocedasticidad: 0.9590926426745954\n",
            "Canal_3 p-valor homocedasticidad: 0.9776337925998679\n",
            "Canal_4 p-valor homocedasticidad: 0.7592528471707681\n",
            "Canal_5 p-valor homocedasticidad: 0.9045548264900758\n",
            "Canal_6 p-valor homocedasticidad: 0.4719758936966434\n",
            "Canal_7 p-valor homocedasticidad: 0.6178759981277988\n",
            "Canal_8 p-valor homocedasticidad: 0.5940765419878595\n"
          ]
        }
      ]
    },
    {
      "cell_type": "markdown",
      "source": [
        "Como se puede observar, la prueba de levene para cada uno de los canales da valores mayores a 0.05 es decir que es mucho mayor que el umbral por ende se dice que la hipótesis nula de igualdad de varianza no se rechaza, por ende se puede decir que los valores analizados presentan un comportamiento de homocedasticidad. El prinicipal objetivo de este estudio es poder determinar que tanta era la dispersión o varianza de los valores de energia del grupo control respecto al grupo de los sujetos que cuentan con Parkinson para cada uno de los canales [1], por ende se puede decir que los datos del grupo control y del grupo Parkinson tienen una dispersión similar en cada canal.\n",
        "\n",
        "Teniendo en cuenta este resultado, no se puede seguir haciendo la prueba de t - student ya que, aunque cumple homocedasticidad, no cumplen con la condición de normalidad. Por lo tanto, se debe realizar un análisis no paramétrico (prueba\n",
        "U de Mann-Whitney)."
      ],
      "metadata": {
        "id": "1V6NwJcub-Du"
      }
    },
    {
      "cell_type": "code",
      "source": [
        "from scipy.stats import mannwhitneyu\n",
        "\n",
        "for canal in df_control.columns: #empieza a recorrer cada canal\n",
        "    prueba_u, p_valor = mannwhitneyu(df_control[canal], df_parkinson[canal])\n",
        "    print(f\"{canal} p-valor Prueba U de Mann - Whitney: {p_valor}\")"
      ],
      "metadata": {
        "colab": {
          "base_uri": "https://localhost:8080/"
        },
        "id": "UjVpUbcda-Ab",
        "outputId": "57f5bccb-0831-4773-8cb0-64bae05cbcba"
      },
      "execution_count": 23,
      "outputs": [
        {
          "output_type": "stream",
          "name": "stdout",
          "text": [
            "Canal_1 p-valor Prueba U de Mann - Whitney: 0.4057005715724912\n",
            "Canal_2 p-valor Prueba U de Mann - Whitney: 0.5705282028889593\n",
            "Canal_3 p-valor Prueba U de Mann - Whitney: 0.46037288907343565\n",
            "Canal_4 p-valor Prueba U de Mann - Whitney: 0.23446184956559823\n",
            "Canal_5 p-valor Prueba U de Mann - Whitney: 0.5600175059745567\n",
            "Canal_6 p-valor Prueba U de Mann - Whitney: 0.2800747649284743\n",
            "Canal_7 p-valor Prueba U de Mann - Whitney: 0.11830081572892007\n",
            "Canal_8 p-valor Prueba U de Mann - Whitney: 0.15054429358714408\n"
          ]
        }
      ]
    },
    {
      "cell_type": "markdown",
      "source": [
        "Se aplicó la prueba U de Mann-Whitney para comparar dos grupos independientes: sujetos sanos y sujetos con Parkinson, considerando un nivel de significancia de α = 0.05 tambien conocido como un umbral. Para esto, al igual que en normalidad, se estableció una hipótesis nula y una alternativa.\n",
        "\n",
        "- Hipótesis nula: no existen diferencias significativas en la distribución de los valores entre ambos grupos, es decir, provienen de la misma distribución. Es decir, no existe diferencia significativa entre los dos grupos teniendo en cuenta los datos del sujeto sano y del sujeto con la patología.\n",
        "\n",
        "- Hipótesis alternativa: existen diferencias significativas en la distribución de los valores entre ambos grupos.\n",
        "\n",
        "Al analizar los p-valores obtenidos para los ocho canales, se observa que en todos los casos p > 0.05. Esto significa que no se rechaza la hipótesis nula, por lo que no se encontraron diferencias estadísticamente significativas entre los sujetos sanos y los sujetos con Parkinson en ninguno de los canales evaluados.\n",
        "\n",
        "Sin embargo, se destaca que los canales 7 (p = 0.118) y 8 (p = 0.150) presentan los valores más bajos, lo cual sugiere una tendencia hacia posibles diferencias que podrían volverse significativas con un mayor tamaño de muestra o con un análisis más específico.\n",
        "\n",
        "En cuanto a un análisis fisiológico se puede determinar que es muy probable que los sujetos con parkkinson se encuentren en una fase temprana en donde los cambios no son bruscos ocasionando variaciones en las medidas. Esto se puede dar por ciertos mecanismos compensatorios como la plasticidad neuronal [2]."
      ],
      "metadata": {
        "id": "vJ3uhKucQK-w"
      }
    },
    {
      "cell_type": "markdown",
      "source": [
        "## Conclusiones:\n",
        "- El procesamiento y análisis de las señales EEG permitió organizar y comparar los datos de sujetos sanos y con Parkinson, mostrando la utilidad de las herramientas estadísticas para evaluar posibles diferencias en la energía de las señales.\n",
        "\n",
        "- Aunque no se evidenciaron diferencias estadísticamente significativas entre los grupos, el ejercicio permitió comprender la importancia del tamaño de muestra, la variabilidad de los datos y la elección de los canales en el resultado de las pruebas, asi como entender la disposición de las señales y entender como funciona el EEC.\n",
        "\n",
        "- La práctica reforzó el aprendizaje en la aplicación de pruebas no paramétricas como la de Mann-Whitney y mostró cómo los resultados estadísticos se relacionan con los analisis fisiológicos y metodológicos."
      ],
      "metadata": {
        "id": "AYENdFizQMlZ"
      }
    },
    {
      "cell_type": "markdown",
      "source": [
        "## Referencias:\n",
        "[1] A. J. Mesa Guerrero y S. J. Caicedo Zambrano, Algunas pruebas estadísticas no paramétricas. San Juan de Pasto, Nariño: Editorial Universidad de Nariño, 2025. Sired\n",
        "\n",
        "[2] “Plasticidad cerebral (o neuroplasticidad): ¿qué es?”, Psicología y Mente. Disponible en: https://psicologiaymente.com/neurociencias/plasticidad-cerebral-neuroplasticidad"
      ],
      "metadata": {
        "id": "uPkkSqUqRfKr"
      }
    }
  ]
}